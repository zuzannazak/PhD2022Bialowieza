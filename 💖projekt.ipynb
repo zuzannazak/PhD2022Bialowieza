{
  "nbformat": 4,
  "nbformat_minor": 0,
  "metadata": {
    "colab": {
      "name": "💖projekt",
      "provenance": [],
      "authorship_tag": "ABX9TyMOhB5P6zpSAbj/muPzLwvK",
      "include_colab_link": true
    },
    "kernelspec": {
      "name": "python3",
      "display_name": "Python 3"
    },
    "language_info": {
      "name": "python"
    }
  },
  "cells": [
    {
      "cell_type": "markdown",
      "metadata": {
        "id": "view-in-github",
        "colab_type": "text"
      },
      "source": [
        "<a href=\"https://colab.research.google.com/github/zuzannazak/PhD2022Bialowieza/blob/main/%F0%9F%92%96projekt.ipynb\" target=\"_parent\"><img src=\"https://colab.research.google.com/assets/colab-badge.svg\" alt=\"Open In Colab\"/></a>"
      ]
    },
    {
      "cell_type": "markdown",
      "source": [
        "#💖Projekt z ekonometrii💖\n",
        "\n",
        "**Stworzony przez:**\n",
        "Wiktoria Rakowska\n",
        "\n",
        "Monika Wesołowska\n",
        "\n",
        "Zuzanna Żak\n",
        "\n",
        "\n",
        "**Dane:**\n",
        "*   https://github.com/pbiecek/SmarterPoland_blog/tree/master/dane/Bialowieza/"
      ],
      "metadata": {
        "id": "C2Fp7sO3Iqq1"
      }
    },
    {
      "cell_type": "code",
      "execution_count": null,
      "metadata": {
        "id": "c01QX1HhIpLI"
      },
      "outputs": [],
      "source": [
        ""
      ]
    }
  ]
}